{
  "nbformat": 4,
  "nbformat_minor": 0,
  "metadata": {
    "colab": {
      "provenance": [],
      "mount_file_id": "1stJrVYzLlPssrXkO8kdR83vWSUmEGgSQ",
      "authorship_tag": "ABX9TyMQ6uAGefyCPaqYfdn17TKS",
      "include_colab_link": true
    },
    "kernelspec": {
      "name": "python3",
      "display_name": "Python 3"
    },
    "language_info": {
      "name": "python"
    }
  },
  "cells": [
    {
      "cell_type": "markdown",
      "metadata": {
        "id": "view-in-github",
        "colab_type": "text"
      },
      "source": [
        "<a href=\"https://colab.research.google.com/github/Cristian1308/Project-Machine-Learning/blob/main/Detecci%C3%B3n_de_Valores_Duplicados_Exactos.ipynb\" target=\"_parent\"><img src=\"https://colab.research.google.com/assets/colab-badge.svg\" alt=\"Open In Colab\"/></a>"
      ]
    },
    {
      "cell_type": "markdown",
      "source": [
        "Se importa la librería pandas para análisis de datos."
      ],
      "metadata": {
        "id": "LE-SySZO7YN6"
      }
    },
    {
      "cell_type": "code",
      "source": [
        "import pandas as pd"
      ],
      "metadata": {
        "id": "nmtLD28H60c-"
      },
      "execution_count": null,
      "outputs": []
    },
    {
      "cell_type": "markdown",
      "source": [
        "Se carga el dataset desde Google Drive."
      ],
      "metadata": {
        "id": "St2t4vPI61uZ"
      }
    },
    {
      "cell_type": "code",
      "source": [
        "df = pd.read_csv(\"/content/drive/MyDrive/Datasets/Exploratorio/card_transdata.csv\")"
      ],
      "metadata": {
        "id": "iEOoftPh64Jt"
      },
      "execution_count": null,
      "outputs": []
    },
    {
      "cell_type": "markdown",
      "source": [
        "Se identifica si hay registros duplicados exactos y se cuenta cuántos son."
      ],
      "metadata": {
        "id": "oqAL2sGn65QS"
      }
    },
    {
      "cell_type": "code",
      "source": [
        "duplicados_exactos = df.duplicated()\n",
        "cantidad_duplicados = duplicados_exactos.sum()"
      ],
      "metadata": {
        "id": "7_Xa5qSz66rS"
      },
      "execution_count": null,
      "outputs": []
    },
    {
      "cell_type": "markdown",
      "source": [
        "Se imprime la cantidad total de registros duplicados."
      ],
      "metadata": {
        "id": "Z5rMJcH-674F"
      }
    },
    {
      "cell_type": "code",
      "source": [
        "print(f\"Cantidad de registros duplicados exactos: {cantidad_duplicados}\")"
      ],
      "metadata": {
        "colab": {
          "base_uri": "https://localhost:8080/"
        },
        "id": "Jw71zePM7Aqx",
        "outputId": "89fa7618-b3e1-411a-d379-93ef613c903a"
      },
      "execution_count": null,
      "outputs": [
        {
          "output_type": "stream",
          "name": "stdout",
          "text": [
            "Cantidad de registros duplicados exactos: 0\n"
          ]
        }
      ]
    },
    {
      "cell_type": "markdown",
      "source": [
        "Si existen duplicados, se muestran los primeros como ejemplo."
      ],
      "metadata": {
        "id": "SV8aNG5f7K_O"
      }
    },
    {
      "cell_type": "code",
      "source": [
        "if cantidad_duplicados > 0:\n",
        "    print(\"\\nEjemplo de registros duplicados exactos:\")\n",
        "    print(df[duplicados_exactos].head())"
      ],
      "metadata": {
        "id": "22WVkfmC7Oex"
      },
      "execution_count": null,
      "outputs": []
    },
    {
      "cell_type": "markdown",
      "source": [
        "Se eliminan los duplicado"
      ],
      "metadata": {
        "id": "ujKjnq5A7QOc"
      }
    },
    {
      "cell_type": "code",
      "source": [
        "df_sin_duplicados = df.drop_duplicates()\n",
        "print(f\"\\nTamaño del dataset después de eliminar duplicados: {df_sin_duplicados.shape}\")"
      ],
      "metadata": {
        "id": "NayZRRU27TAw"
      },
      "execution_count": null,
      "outputs": []
    }
  ]
}