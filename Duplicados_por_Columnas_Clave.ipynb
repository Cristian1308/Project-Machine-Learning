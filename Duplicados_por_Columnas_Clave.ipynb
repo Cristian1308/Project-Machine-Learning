{
  "nbformat": 4,
  "nbformat_minor": 0,
  "metadata": {
    "colab": {
      "provenance": [],
      "mount_file_id": "1KHtu1xEwnlDNBZgj9JrA_qT1udKoItVn",
      "authorship_tag": "ABX9TyPF7E0wZrS1s0/MSlyLeGdG",
      "include_colab_link": true
    },
    "kernelspec": {
      "name": "python3",
      "display_name": "Python 3"
    },
    "language_info": {
      "name": "python"
    }
  },
  "cells": [
    {
      "cell_type": "markdown",
      "metadata": {
        "id": "view-in-github",
        "colab_type": "text"
      },
      "source": [
        "<a href=\"https://colab.research.google.com/github/Cristian1308/Project-Machine-Learning/blob/main/Duplicados_por_Columnas_Clave.ipynb\" target=\"_parent\"><img src=\"https://colab.research.google.com/assets/colab-badge.svg\" alt=\"Open In Colab\"/></a>"
      ]
    },
    {
      "cell_type": "markdown",
      "source": [
        "Duplicados por Columnas Clave"
      ],
      "metadata": {
        "id": "ND2b5xItmQgm"
      }
    },
    {
      "cell_type": "markdown",
      "source": [
        "Se importa la librería pandas para trabajar con el dataset."
      ],
      "metadata": {
        "id": "OdLbCpD6me_i"
      }
    },
    {
      "cell_type": "code",
      "source": [
        "import pandas as pd"
      ],
      "metadata": {
        "id": "8aflvq35mdWN"
      },
      "execution_count": 1,
      "outputs": []
    },
    {
      "cell_type": "code",
      "source": [
        "from google.colab import drive\n",
        "drive.mount('/content/drive')"
      ],
      "metadata": {
        "id": "ON-e18vznACg"
      },
      "execution_count": null,
      "outputs": []
    },
    {
      "cell_type": "markdown",
      "source": [
        "Se carga el archivo CSV desde Google Drive"
      ],
      "metadata": {
        "id": "K2BxR662mhsW"
      }
    },
    {
      "cell_type": "code",
      "source": [
        "df = pd.read_csv(\"/content/drive/MyDrive/Datasets/Exploratorio/card_transdata.csv\")"
      ],
      "metadata": {
        "id": "B-r9njJqmjMD"
      },
      "execution_count": 9,
      "outputs": []
    },
    {
      "cell_type": "markdown",
      "source": [
        "Se define una lista de columnas clave para identificar duplicados parciales."
      ],
      "metadata": {
        "id": "Oa4V7TjfmnM1"
      }
    },
    {
      "cell_type": "code",
      "source": [
        "columnas_clave = [\n",
        "    'distance_from_home',\n",
        "    'distance_from_last_transaction',\n",
        "    'ratio_to_median_purchase_price',\n",
        "    'repeat_retailer',\n",
        "    'used_chip',\n",
        "    'used_pin_number',\n",
        "    'online_order',\n",
        "    'fraud'\n",
        "]"
      ],
      "metadata": {
        "id": "fk18nohnmok5"
      },
      "execution_count": 5,
      "outputs": []
    },
    {
      "cell_type": "markdown",
      "source": [
        "Se detectan los duplicados parciales usando las columnas clave y se cuenta cuántos hay."
      ],
      "metadata": {
        "id": "zszW4-xSmqCK"
      }
    },
    {
      "cell_type": "code",
      "source": [
        "duplicados_parciales = df.duplicated(subset=columnas_clave)\n",
        "cantidad_parciales = duplicados_parciales.sum()"
      ],
      "metadata": {
        "id": "yAdubgdEmrKZ"
      },
      "execution_count": 10,
      "outputs": []
    },
    {
      "cell_type": "markdown",
      "source": [
        "Se imprime la cantidad de registros duplicados detectados bajo ese criterio."
      ],
      "metadata": {
        "id": "FZQP8Y_JmsZt"
      }
    },
    {
      "cell_type": "code",
      "source": [
        "print(f\"Cantidad de registros duplicados parciales (por columnas clave): {cantidad_parciales}\")"
      ],
      "metadata": {
        "colab": {
          "base_uri": "https://localhost:8080/"
        },
        "id": "1ylLyIKYmuqY",
        "outputId": "fb6af497-7146-4bd1-c76a-6f4dd3f80371"
      },
      "execution_count": 11,
      "outputs": [
        {
          "output_type": "stream",
          "name": "stdout",
          "text": [
            "Cantidad de registros duplicados parciales (por columnas clave): 0\n"
          ]
        }
      ]
    },
    {
      "cell_type": "markdown",
      "source": [
        "Si existen duplicados parciales, se muestran los primeros como ejemplo."
      ],
      "metadata": {
        "id": "ACKu1hhym4H3"
      }
    },
    {
      "cell_type": "code",
      "source": [
        "if cantidad_parciales > 0:\n",
        "    print(\"\\nEjemplo de registros duplicados parciales:\")\n",
        "    print(df[duplicados_parciales].head())"
      ],
      "metadata": {
        "id": "RFi82yjBm6o-"
      },
      "execution_count": 12,
      "outputs": []
    },
    {
      "cell_type": "markdown",
      "source": [
        "Se eliminan los duplicados parciales y se imprime el nuevo tamaño del dataset limpio."
      ],
      "metadata": {
        "id": "sIw76x6Xm7wf"
      }
    },
    {
      "cell_type": "code",
      "source": [
        "df_sin_parciales = df.drop_duplicates(subset=columnas_clave)\n",
        "print(f\"\\nTamaño del dataset después de eliminar duplicados parciales: {df_sin_parciales.shape}\")"
      ],
      "metadata": {
        "colab": {
          "base_uri": "https://localhost:8080/"
        },
        "id": "Yqtc9svWm9Ae",
        "outputId": "ad5143b6-3b51-4a81-c3c3-03ba856bd94f"
      },
      "execution_count": 13,
      "outputs": [
        {
          "output_type": "stream",
          "name": "stdout",
          "text": [
            "\n",
            "Tamaño del dataset después de eliminar duplicados parciales: (1000000, 8)\n"
          ]
        }
      ]
    }
  ]
}