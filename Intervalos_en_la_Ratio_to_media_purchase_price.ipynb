{
  "nbformat": 4,
  "nbformat_minor": 0,
  "metadata": {
    "colab": {
      "provenance": [],
      "mount_file_id": "1Qy4Y8gq89ir-YzySWbm4gqCwEgGYTZ4a",
      "authorship_tag": "ABX9TyNJgQ9gN0r1FEHyxE3sFMoN",
      "include_colab_link": true
    },
    "kernelspec": {
      "name": "python3",
      "display_name": "Python 3"
    },
    "language_info": {
      "name": "python"
    }
  },
  "cells": [
    {
      "cell_type": "markdown",
      "metadata": {
        "id": "view-in-github",
        "colab_type": "text"
      },
      "source": [
        "<a href=\"https://colab.research.google.com/github/Cristian1308/Project-Machine-Learning/blob/main/Intervalos_en_la_Ratio_to_media_purchase_price.ipynb\" target=\"_parent\"><img src=\"https://colab.research.google.com/assets/colab-badge.svg\" alt=\"Open In Colab\"/></a>"
      ]
    },
    {
      "cell_type": "markdown",
      "source": [
        "Intervalos en la Ratio to media purchase price"
      ],
      "metadata": {
        "id": "Ablfzo0-rT4U"
      }
    },
    {
      "cell_type": "markdown",
      "source": [
        "Se importan librerías para análisis de datos y visualización."
      ],
      "metadata": {
        "id": "W2yFyoPoraMS"
      }
    },
    {
      "cell_type": "code",
      "execution_count": 1,
      "metadata": {
        "id": "wQaKo9CgrPRb"
      },
      "outputs": [],
      "source": [
        "import pandas as pd\n",
        "import matplotlib.pyplot as plt"
      ]
    },
    {
      "cell_type": "markdown",
      "source": [
        "Se carga el dataset desde Google Drive."
      ],
      "metadata": {
        "id": "Y4kkusepra-P"
      }
    },
    {
      "cell_type": "code",
      "source": [
        "df = pd.read_csv(\"/content/drive/MyDrive/Datasets/Exploratorio/card_transdata.csv\")"
      ],
      "metadata": {
        "id": "yoE0mpIYrcT4"
      },
      "execution_count": 3,
      "outputs": []
    },
    {
      "cell_type": "markdown",
      "source": [
        "Se crean intervalos de la variable ratio_to_median_purchase_price y se asignan etiquetas para agrupar las transacciones por rangos de valores."
      ],
      "metadata": {
        "id": "stA64htwrhnH"
      }
    },
    {
      "cell_type": "code",
      "source": [
        "bins = [0, 1, 3, 10, float(\"inf\")]\n",
        "labels = [\"[0-1]\", \"(1-3]\", \"(3-10]\", \">10\"]\n",
        "\n",
        "df[\"ratio_interval\"] = pd.cut(df[\"ratio_to_median_purchase_price\"], bins=bins, labels=labels, include_lowest=True)"
      ],
      "metadata": {
        "id": "br0Rm-zKrlCf"
      },
      "execution_count": 4,
      "outputs": []
    },
    {
      "cell_type": "markdown",
      "source": [
        "Se agrupan los datos por intervalo y se calcula:"
      ],
      "metadata": {
        "id": "TRZwWUmTrmeI"
      }
    },
    {
      "cell_type": "code",
      "source": [
        "summary = df.groupby(\"ratio_interval\", observed=True).agg(\n",
        "    total_transacciones=(\"fraud\", \"count\"),\n",
        "    total_fraudes=(\"fraud\", \"sum\")\n",
        ")\n",
        "summary[\"porcentaje_fraude\"] = (summary[\"total_fraudes\"] / summary[\"total_transacciones\"]) * 100"
      ],
      "metadata": {
        "id": "4SCbBWt4roTy"
      },
      "execution_count": 8,
      "outputs": []
    },
    {
      "cell_type": "markdown",
      "source": [
        "Se imprime el resumen estadístico de cada intervalo."
      ],
      "metadata": {
        "id": "oyFIeBbvrpoF"
      }
    },
    {
      "cell_type": "code",
      "source": [
        "print(summary)"
      ],
      "metadata": {
        "colab": {
          "base_uri": "https://localhost:8080/"
        },
        "id": "SFPT0A5prrBr",
        "outputId": "fdf9d619-0c98-40d2-91ad-9ae19d001d71"
      },
      "execution_count": 9,
      "outputs": [
        {
          "output_type": "stream",
          "name": "stdout",
          "text": [
            "                total_transacciones  total_fraudes  porcentaje_fraude\n",
            "ratio_interval                                                       \n",
            "[0-1]                        500879        12567.0           2.508989\n",
            "(1-3]                        340923         8451.0           2.478859\n",
            "(3-10]                       140284        55024.0          39.223290\n",
            ">10                           17914        11361.0          63.419672\n"
          ]
        }
      ]
    },
    {
      "cell_type": "markdown",
      "source": [
        "Se crea un gráfico de barras con el porcentaje de fraude por intervalo."
      ],
      "metadata": {
        "id": "Hdy3pNVhrsLP"
      }
    },
    {
      "cell_type": "code",
      "source": [
        "plt.figure(figsize=(8, 5))\n",
        "bars = plt.bar(summary.index, summary[\"porcentaje_fraude\"], color=\"#d9534f\", edgecolor=\"black\")"
      ],
      "metadata": {
        "colab": {
          "base_uri": "https://localhost:8080/",
          "height": 445
        },
        "id": "90M2F0Eqru8a",
        "outputId": "a41097f0-7a6b-41f6-f9e8-de2bf983de0a"
      },
      "execution_count": 10,
      "outputs": [
        {
          "output_type": "display_data",
          "data": {
            "text/plain": [
              "<Figure size 800x500 with 1 Axes>"
            ],
            "image/png": "[encoded data removed]"
          },
          "metadata": {}
        }
      ]
    }
  ]
}