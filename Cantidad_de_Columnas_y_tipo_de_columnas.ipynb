{
  "nbformat": 4,
  "nbformat_minor": 0,
  "metadata": {
    "colab": {
      "provenance": [],
      "mount_file_id": "1p0qd30PPhnNG-3SOcTmskxW_6nkxoSZk",
      "authorship_tag": "ABX9TyPfcydM3gMtAlMYHvtnYKyY",
      "include_colab_link": true
    },
    "kernelspec": {
      "name": "python3",
      "display_name": "Python 3"
    },
    "language_info": {
      "name": "python"
    }
  },
  "cells": [
    {
      "cell_type": "markdown",
      "metadata": {
        "id": "view-in-github",
        "colab_type": "text"
      },
      "source": [
        "<a href=\"https://colab.research.google.com/github/Cristian1308/Project-Machine-Learning/blob/main/Cantidad_de_Columnas_y_tipo_de_columnas.ipynb\" target=\"_parent\"><img src=\"https://colab.research.google.com/assets/colab-badge.svg\" alt=\"Open In Colab\"/></a>"
      ]
    },
    {
      "cell_type": "markdown",
      "source": [
        "**Cantidad de Columnas y tipo de columnas**"
      ],
      "metadata": {
        "id": "BPDIqCT11Qre"
      }
    },
    {
      "cell_type": "markdown",
      "source": [
        "Se importa la librería pandas para análisis de datos.\n"
      ],
      "metadata": {
        "id": "2jlcRZUPxKpx"
      }
    },
    {
      "cell_type": "code",
      "source": [
        "import pandas as pd"
      ],
      "metadata": {
        "id": "E6iXJSxRxOXZ"
      },
      "execution_count": 1,
      "outputs": []
    },
    {
      "cell_type": "markdown",
      "source": [
        "Se carga el archivo .csv desde Google Drive en un DataFrame.\n"
      ],
      "metadata": {
        "id": "_QtSuUk5xO-3"
      }
    },
    {
      "cell_type": "code",
      "source": [
        "df = pd.read_csv(\"/content/drive/MyDrive/Datasets/Exploratorio/card_transdata.csv\")"
      ],
      "metadata": {
        "id": "mWeLcrGUxURv"
      },
      "execution_count": 2,
      "outputs": []
    },
    {
      "cell_type": "markdown",
      "source": [
        "Se imprime el número de filas y columnas del dataset."
      ],
      "metadata": {
        "id": "I_U5UXNwxWCQ"
      }
    },
    {
      "cell_type": "code",
      "source": [
        "print(f\"Cantidad de registros (filas): {df.shape[0]}\")\n",
        "print(f\"Cantidad de variables (columnas): {df.shape[1]}\")"
      ],
      "metadata": {
        "colab": {
          "base_uri": "https://localhost:8080/"
        },
        "id": "Bkawh5saxYMl",
        "outputId": "dbef452c-d69a-45a5-c1d3-645bfce8f26e"
      },
      "execution_count": 3,
      "outputs": [
        {
          "output_type": "stream",
          "name": "stdout",
          "text": [
            "Cantidad de registros (filas): 1000000\n",
            "Cantidad de variables (columnas): 8\n"
          ]
        }
      ]
    },
    {
      "cell_type": "markdown",
      "source": [
        "Se muestran los tipos de datos por columna."
      ],
      "metadata": {
        "id": "oqCyx6dJ0fHc"
      }
    },
    {
      "cell_type": "code",
      "source": [
        "print(\"\\nTipos de variables:\")\n",
        "print(df.dtypes)"
      ],
      "metadata": {
        "colab": {
          "base_uri": "https://localhost:8080/"
        },
        "id": "QoSCIM3V0gQR",
        "outputId": "3e777a65-203f-4a85-d32b-cd9f8f092cd4"
      },
      "execution_count": 4,
      "outputs": [
        {
          "output_type": "stream",
          "name": "stdout",
          "text": [
            "\n",
            "Tipos de variables:\n",
            "distance_from_home                float64\n",
            "distance_from_last_transaction    float64\n",
            "ratio_to_median_purchase_price    float64\n",
            "repeat_retailer                   float64\n",
            "used_chip                         float64\n",
            "used_pin_number                   float64\n",
            "online_order                      float64\n",
            "fraud                             float64\n",
            "dtype: object\n"
          ]
        }
      ]
    },
    {
      "cell_type": "markdown",
      "source": [
        "Se visualizan las primeras 5 filas del dataset."
      ],
      "metadata": {
        "id": "iQ53D7l80iZ4"
      }
    },
    {
      "cell_type": "code",
      "source": [
        "print(\"\\nPrimeras filas del dataset:\")\n",
        "print(df.head())"
      ],
      "metadata": {
        "colab": {
          "base_uri": "https://localhost:8080/"
        },
        "id": "iKFXNkIx0l-v",
        "outputId": "ea355ace-84ef-4a25-f53e-6709f591a0b2"
      },
      "execution_count": 5,
      "outputs": [
        {
          "output_type": "stream",
          "name": "stdout",
          "text": [
            "\n",
            "Primeras filas del dataset:\n",
            "   distance_from_home  distance_from_last_transaction  \\\n",
            "0           57.877857                        0.311140   \n",
            "1           10.829943                        0.175592   \n",
            "2            5.091079                        0.805153   \n",
            "3            2.247564                        5.600044   \n",
            "4           44.190936                        0.566486   \n",
            "\n",
            "   ratio_to_median_purchase_price  repeat_retailer  used_chip  \\\n",
            "0                        1.945940              1.0        1.0   \n",
            "1                        1.294219              1.0        0.0   \n",
            "2                        0.427715              1.0        0.0   \n",
            "3                        0.362663              1.0        1.0   \n",
            "4                        2.222767              1.0        1.0   \n",
            "\n",
            "   used_pin_number  online_order  fraud  \n",
            "0              0.0           0.0    0.0  \n",
            "1              0.0           0.0    0.0  \n",
            "2              0.0           1.0    0.0  \n",
            "3              0.0           1.0    0.0  \n",
            "4              0.0           1.0    0.0  \n"
          ]
        }
      ]
    }
  ]
}